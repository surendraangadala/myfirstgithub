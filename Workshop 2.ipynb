{
 "cells": [
  {
   "cell_type": "markdown",
   "metadata": {},
   "source": [
    "# <h1><center>Workshop 2</center></h1>\n",
    "## Learning outcome"
   ]
  },
  {
   "cell_type": "markdown",
   "metadata": {},
   "source": [
    "- The Task 1 will enable you to learn the steps requird for reading geospatial data with Geopandas\n",
    "- The Task 2 will enable you to learm the steps required for reading CSV data with Pandas and convert into GeoDataFrame\n",
    "- The Task 3 will enable you to learn about the various kinds of Coordinate Refernce System (CRS) used in geospatial analysis\n",
    "- The Task 4 will enable you to learns about the basics of buffer analysis and its potential applications in a geospatial application\n",
    "- The Task 5 will enbale you to learn about spatial joining operations and answer some interesting questions corresponding the joined geospatial datasets \n",
    "\n"
   ]
  },
  {
   "cell_type": "markdown",
   "metadata": {},
   "source": [
    "## Prior to starting this workshop you must import some key libraries "
   ]
  },
  {
   "cell_type": "code",
   "execution_count": null,
   "metadata": {},
   "outputs": [],
   "source": [
    "# Import these libraries: Geopandas, Pandas and Matplotlip.pyplot\n",
    "import geopandas as gpd\n",
    "import pandas as pd\n",
    "import matplotlib.pyplot as plt\n",
    "\n"
   ]
  },
  {
   "cell_type": "markdown",
   "metadata": {},
   "source": [
    "## Task 1. Read Spatial data with Geopandas (30 minutes)"
   ]
  },
  {
   "cell_type": "markdown",
   "metadata": {},
   "source": [
    "<div class=\"alert alert-block alert-info\">\n",
    "    \n",
    "<b>Instructions:</b> \n",
    "\n",
    "\n",
    "* <span style='font-family:Georgia'> Please read  \"Workshop2Data/Neighborhoods_Philadelphia/ with Geopandas. You should use Geopandas read_file() function and name the file appropriately.\n",
    "    \n",
    "* <span style='font-family:Georgia'> The data to be read is a shapefile with the name Neighborhoods_Philadelphia.\n",
    " \n",
    "</div>"
   ]
  },
  {
   "cell_type": "code",
   "execution_count": null,
   "metadata": {},
   "outputs": [],
   "source": []
  },
  {
   "cell_type": "markdown",
   "metadata": {},
   "source": [
    "<div class=\"alert alert-block alert-info\">\n",
    "<span style='font-family:Georgia'> \n",
    "Using an appropriate line of code, show the the first five rows of the data.\n",
    "</div>"
   ]
  },
  {
   "cell_type": "code",
   "execution_count": null,
   "metadata": {},
   "outputs": [],
   "source": []
  },
  {
   "cell_type": "markdown",
   "metadata": {},
   "source": [
    "<div class=\"alert alert-block alert-info\">\n",
    "<span style='font-family:Georgia'> \n",
    "Plot the data with geopandas .plot() method\n",
    "\n",
    "</div>"
   ]
  },
  {
   "cell_type": "code",
   "execution_count": null,
   "metadata": {},
   "outputs": [],
   "source": []
  },
  {
   "cell_type": "markdown",
   "metadata": {},
   "source": [
    "## Task 2. Read CSV file with Pandas and convert to GeoDataFrame (60 minutes)"
   ]
  },
  {
   "cell_type": "markdown",
   "metadata": {},
   "source": [
    "\n",
    "<div class=\"alert alert-block alert-info\">\n",
    "    \n",
    "<b>Instructions:</b> \n",
    "\n",
    "\n",
    "* <span style='font-family:Georgia'> Read the incidents.csv file with Pandas: The data is stored in the Workshop2Data folder.\n",
    "    \n",
    " \n",
    "* <span style='font-family:Georgia'> Show a sample of rows from the DataFrame.\n",
    "</div>"
   ]
  },
  {
   "cell_type": "code",
   "execution_count": null,
   "metadata": {},
   "outputs": [],
   "source": []
  },
  {
   "cell_type": "markdown",
   "metadata": {},
   "source": [
    "This is a pandas dataframe which needs to be converted into a GeoDataframe. \n",
    "\n",
    "<div class=\"alert alert-block alert-info\">\n",
    "    \n",
    "<b>Instructions:</b> \n",
    "\n",
    "\n",
    "* <span style='font-family:Georgia'> First find the column names for the coordinates (latitude and longitude columns).\n",
    "    \n",
    "* <span style='font-family:Georgia'> Convert the Dataframe to GeodataFrame using gpd.GeoDataFrame(). \n",
    "    \n",
    "* <span style='font-family:Georgia'> After converting the DataFrame to a GeoDataframe, a geometry column will be included in the dataset. \n",
    "\n",
    "\n"
   ]
  },
  {
   "cell_type": "code",
   "execution_count": null,
   "metadata": {},
   "outputs": [],
   "source": []
  },
  {
   "cell_type": "markdown",
   "metadata": {},
   "source": [
    "<div class=\"alert alert-block alert-info\">\n",
    "<span style='font-family:Georgia'> \n",
    "Plot the GeoDataFrame with geopandas .plot() method\n",
    "\n",
    "</div>"
   ]
  },
  {
   "cell_type": "code",
   "execution_count": null,
   "metadata": {},
   "outputs": [],
   "source": []
  },
  {
   "cell_type": "markdown",
   "metadata": {},
   "source": [
    "\n",
    "<div class=\"alert alert-block alert-danger\">\n",
    "<b>Please note:</b> It appears that some points are outliers, probably in another city. Can you remove them?.\n",
    "</div>\n",
    "\n",
    "<div class=\"alert alert-block alert-info\">\n",
    "<span style='font-family:Georgia'> \n",
    "One way to remove these outliers is to put some conditions on the lat. For example, Try to use indexing such as, \"lat\"> 38 should work in this case. After removing these outliers you should re-plot to see the results\n",
    "\n",
    "</div>"
   ]
  },
  {
   "cell_type": "code",
   "execution_count": null,
   "metadata": {},
   "outputs": [],
   "source": [
    "gdf_clean = gdf[(gdf[\"lat\"] > 38)]"
   ]
  },
  {
   "cell_type": "markdown",
   "metadata": {},
   "source": [
    "<div class=\"alert alert-block alert-info\">\n",
    "<span style='font-family:Georgia'> \n",
    "Plot the cleaned GeoDataFrame with geopandas .plot() method\n",
    "\n",
    "</div>"
   ]
  },
  {
   "cell_type": "code",
   "execution_count": null,
   "metadata": {},
   "outputs": [],
   "source": []
  },
  {
   "cell_type": "markdown",
   "metadata": {},
   "source": [
    "\n",
    "\n",
    "<div class=\"alert alert-block alert-info\">\n",
    "<span style='font-family:Georgia'> \n",
    "Save the cleaned data to the Workshop2Data Folder: call it incidents_clean.shp.\n",
    "\n",
    "</div>"
   ]
  },
  {
   "cell_type": "code",
   "execution_count": null,
   "metadata": {},
   "outputs": [],
   "source": []
  },
  {
   "cell_type": "markdown",
   "metadata": {},
   "source": [
    "#  <font color='red'>15 minutes break</font> \n"
   ]
  },
  {
   "cell_type": "markdown",
   "metadata": {},
   "source": [
    "# Task 3 Projections (30 minutes)"
   ]
  },
  {
   "cell_type": "markdown",
   "metadata": {},
   "source": [
    "\n",
    "\n",
    "<div class=\"alert alert-block alert-info\">\n",
    "<span style='font-family:Georgia'> \n",
    "Check the Coordinate Reference System (CRS) of the the first GeoDataframe - gdf_areas\n",
    "\n",
    "</div>"
   ]
  },
  {
   "cell_type": "code",
   "execution_count": null,
   "metadata": {},
   "outputs": [],
   "source": []
  },
  {
   "cell_type": "markdown",
   "metadata": {},
   "source": [
    "\n",
    "\n",
    "<div class=\"alert alert-block alert-success\">\n",
    "<b>Quiz:</b> What is the EPSG code? .\n",
    "</div>"
   ]
  },
  {
   "cell_type": "markdown",
   "metadata": {},
   "source": []
  },
  {
   "cell_type": "markdown",
   "metadata": {},
   "source": [
    "\n",
    "<div class=\"alert alert-block alert-info\">\n",
    "<span style='font-family:Georgia'> \n",
    " Check the CRS of the the incidents dataset which was converted to Geodataframe\n",
    "</div>"
   ]
  },
  {
   "cell_type": "code",
   "execution_count": null,
   "metadata": {},
   "outputs": [],
   "source": []
  },
  {
   "cell_type": "markdown",
   "metadata": {},
   "source": [
    "\n",
    "\n",
    "\n",
    "<div class=\"alert alert-block alert-info\">\n",
    "<span style='font-family:Georgia'> \n",
    "We have different CRS in these two datasets. Set the CRS of the incidents dataset (point) to the same CRS of Neighborhoods_Philadelphia data (polygon).\n",
    "    \n",
    "You can use .to_crs() method.\n",
    "</div>\n"
   ]
  },
  {
   "cell_type": "code",
   "execution_count": null,
   "metadata": {},
   "outputs": [],
   "source": [
    "gdf = gdf_areas.to_crs(epsg=2272)"
   ]
  },
  {
   "cell_type": "markdown",
   "metadata": {},
   "source": [
    "\n",
    "\n",
    "<div class=\"alert alert-block alert-info\">\n",
    "<span style='font-family:Georgia'> \n",
    "Check whether the CRS was changed successfully.\n",
    "</div>"
   ]
  },
  {
   "cell_type": "code",
   "execution_count": null,
   "metadata": {},
   "outputs": [],
   "source": []
  },
  {
   "cell_type": "markdown",
   "metadata": {},
   "source": [
    "# Task 4 Buffer analysis (30 minutes)\n"
   ]
  },
  {
   "cell_type": "markdown",
   "metadata": {},
   "source": [
    "<div class=\"alert alert-block alert-info\">\n",
    "    \n",
    "<b>Instructions:</b> \n",
    "\n",
    "\n",
    "* <span style='font-family:Georgia'> Read the Swimming Pool Dataset in the Workshop2Data folder\n",
    "    \n",
    "* <span style='font-family:Georgia'> Display the first five rows of the dataset.\n",
    " \n",
    "</div>"
   ]
  },
  {
   "cell_type": "code",
   "execution_count": null,
   "metadata": {},
   "outputs": [],
   "source": []
  },
  {
   "cell_type": "markdown",
   "metadata": {},
   "source": [
    "<div class=\"alert alert-block alert-info\">\n",
    "    \n",
    "* <span style='font-family:Georgia'> Plot the swimming pools data with Geopandas. \n",
    " \n",
    "</div>"
   ]
  },
  {
   "cell_type": "code",
   "execution_count": null,
   "metadata": {},
   "outputs": [],
   "source": []
  },
  {
   "cell_type": "markdown",
   "metadata": {},
   "source": [
    "<div class=\"alert alert-block alert-info\">\n",
    "    \n",
    "* <span style='font-family:Georgia'> Find the the swimming pool with the following name \"Jardel Pool\". Plot Jardel Pool. \n",
    " \n",
    "</div>"
   ]
  },
  {
   "cell_type": "code",
   "execution_count": null,
   "metadata": {},
   "outputs": [],
   "source": []
  },
  {
   "cell_type": "markdown",
   "metadata": {},
   "source": [
    "<div class=\"alert alert-block alert-info\">\n",
    "    \n",
    "* <span style='font-family:Georgia'> Buffer the Jardel Pool with a distance of your choice (e.g. 10 units). \n",
    " \n",
    "</div>"
   ]
  },
  {
   "cell_type": "code",
   "execution_count": null,
   "metadata": {},
   "outputs": [],
   "source": []
  },
  {
   "cell_type": "markdown",
   "metadata": {},
   "source": [
    "\n",
    "<div class=\"alert alert-block alert-info\">\n",
    "    \n",
    "* <span style='font-family:Georgia'> Plot the buffered point. \n",
    " \n",
    "</div>"
   ]
  },
  {
   "cell_type": "code",
   "execution_count": null,
   "metadata": {},
   "outputs": [],
   "source": []
  },
  {
   "cell_type": "markdown",
   "metadata": {},
   "source": [
    "\n",
    "<div class=\"alert alert-block alert-info\">\n",
    "    \n",
    "* <span style='font-family:Georgia'> Which number did you choose for the distance?. \n",
    " \n",
    "</div>"
   ]
  },
  {
   "cell_type": "markdown",
   "metadata": {},
   "source": [
    "<div class=\"alert alert-block alert-info\">\n",
    "    \n",
    "* <span style='font-family:Georgia'> Is it meters, Kilometers, foot or something else? How do you know it? (Hint: Check the CRS)\n",
    " \n",
    "</div>"
   ]
  },
  {
   "cell_type": "code",
   "execution_count": null,
   "metadata": {},
   "outputs": [],
   "source": []
  },
  {
   "cell_type": "markdown",
   "metadata": {},
   "source": [
    "You can find the detail about a particular EPSG like their unit, area of use etc. using the following kinds of links.\n",
    "- https://epsg.io/4326\n",
    "- https://epsg.io/3651"
   ]
  },
  {
   "cell_type": "markdown",
   "metadata": {},
   "source": [
    "\n",
    "<div class=\"alert alert-block alert-info\">\n",
    "    \n",
    "<b>Instructions:</b> \n",
    "\n",
    "\n",
    "* <span style='font-family:Georgia'> Can you find out a CRS that uses Meters/foot as Unit of measurement? (Hint: search in https://epsg.io/)\n",
    "    \n",
    "* <span style='font-family:Georgia'> If you manage to find out a CRS that has meter as unit of measure, set the CRS of the swimming pool to the meter based CRS. A meter based units is being set here. You can use to_crs() \n",
    " \n",
    "</div>"
   ]
  },
  {
   "cell_type": "code",
   "execution_count": null,
   "metadata": {},
   "outputs": [],
   "source": []
  },
  {
   "cell_type": "markdown",
   "metadata": {},
   "source": [
    "\n",
    "\n",
    "<div class=\"alert alert-block alert-info\">\n",
    "    \n",
    "* <span style='font-family:Georgia'> Check if the CRS is changed and meter is the unit of measurement\n",
    " \n",
    "</div>"
   ]
  },
  {
   "cell_type": "code",
   "execution_count": null,
   "metadata": {},
   "outputs": [],
   "source": []
  },
  {
   "cell_type": "markdown",
   "metadata": {},
   "source": [
    "\n",
    "<div class=\"alert alert-block alert-info\">\n",
    "    \n",
    "* <span style='font-family:Georgia'> Now, buffer a distance of your choice (meters) on Jardel swimming pool.\n",
    " \n",
    "</div>\n",
    "\n"
   ]
  },
  {
   "cell_type": "code",
   "execution_count": null,
   "metadata": {},
   "outputs": [],
   "source": []
  },
  {
   "cell_type": "markdown",
   "metadata": {},
   "source": [
    "<div class=\"alert alert-block alert-info\">\n",
    "    \n",
    "* <span style='font-family:Georgia'> Plot the buffered point.\n",
    " \n",
    "</div>"
   ]
  },
  {
   "cell_type": "code",
   "execution_count": null,
   "metadata": {},
   "outputs": [],
   "source": []
  },
  {
   "cell_type": "markdown",
   "metadata": {},
   "source": [
    "#  <font color='red'>15 minutes break</font> \n",
    "\n",
    "\n"
   ]
  },
  {
   "cell_type": "markdown",
   "metadata": {},
   "source": [
    "# Spatial join (60 minutes)"
   ]
  },
  {
   "cell_type": "markdown",
   "metadata": {},
   "source": [
    "<div class=\"alert alert-block alert-info\">  \n",
    "<b>Instructions:</b> \n",
    "    \n",
    "* <span style='font-family:Georgia'> Read the cleaned incidents dataset, incidents_clean.shp. This data file should have been created by you as part of a previous exercise. However, you can also find the data from the folder named as 'changeme' placed under the folder, 'Workshop2Data'.\n",
    "    \n",
    "\n",
    "    \n",
    "* <span style='font-family:Georgia'> Display the first five rows of the data. \n",
    "    \n",
    "</div>"
   ]
  },
  {
   "cell_type": "code",
   "execution_count": null,
   "metadata": {},
   "outputs": [],
   "source": []
  },
  {
   "cell_type": "markdown",
   "metadata": {},
   "source": [
    "\n",
    "<div class=\"alert alert-block alert-info\">  \n",
    "<b>Instructions:</b> \n",
    "    \n",
    "* <span style='font-family:Georgia'>Read the Neighbourhood data in \"Workshop2Data/Neighborhoods_Philadelphia/ Folder.\n",
    "      \n",
    "* <span style='font-family:Georgia'> Display the first few rows of the data. \n",
    "    \n",
    "</div>"
   ]
  },
  {
   "cell_type": "code",
   "execution_count": null,
   "metadata": {},
   "outputs": [],
   "source": []
  },
  {
   "cell_type": "markdown",
   "metadata": {},
   "source": [
    "\n",
    "<div class=\"alert alert-block alert-info\">\n",
    "    \n",
    "* <span style='font-family:Georgia'> Check if the incidents data and the neighbourhood data has the same CRS.\n",
    " \n",
    "</div>"
   ]
  },
  {
   "cell_type": "code",
   "execution_count": null,
   "metadata": {},
   "outputs": [],
   "source": []
  },
  {
   "cell_type": "code",
   "execution_count": null,
   "metadata": {},
   "outputs": [],
   "source": []
  },
  {
   "cell_type": "markdown",
   "metadata": {},
   "source": [
    "\n",
    "<div class=\"alert alert-block alert-danger\">\n",
    "<b>Be careful:</b> They do not have the same CRS, so you need to reproject the incidents data from EPSG:4326 to EPSG:2272.\n",
    "</div>"
   ]
  },
  {
   "cell_type": "code",
   "execution_count": null,
   "metadata": {},
   "outputs": [],
   "source": []
  },
  {
   "cell_type": "markdown",
   "metadata": {},
   "source": [
    "\n",
    "<div class=\"alert alert-block alert-info\">  \n",
    "<b>Instructions:</b> \n",
    "    \n",
    "* <span style='font-family:Georgia'>Use the following code to plot the incidents point as well as Philadelphia area on the same plot.\n",
    "    \n",
    "\n",
    "    \n",
    "</div>"
   ]
  },
  {
   "cell_type": "code",
   "execution_count": null,
   "metadata": {},
   "outputs": [],
   "source": [
    "fig, ax = plt.subplots(figsize=(12,10))\n",
    "gdf_areas.plot(ax=ax, color=\"gray\")\n",
    "incidents_proj.plot(ax=ax, markersize=0.2, color=\"Red\")"
   ]
  },
  {
   "cell_type": "markdown",
   "metadata": {},
   "source": [
    "\n",
    "<div class=\"alert alert-block alert-info\">  \n",
    "<b>Instructions:</b> \n",
    "    \n",
    "* <span style='font-family:Georgia'> Use .sjoin() to join points dataset with the Neighbourhod dataset. Note that we want to determine which point is within which polygon.\n",
    "    \n",
    "* <span style='font-family:Georgia'>Remember to use the projected points.\n",
    "      \n",
    "* <span style='font-family:Georgia'> You might use these parameters: sjoin(point dataset(XXX -change the name), polygon dataset(XXX -change the name), how=\"inner\", op=\"within\"). \n",
    "</div>"
   ]
  },
  {
   "cell_type": "code",
   "execution_count": null,
   "metadata": {},
   "outputs": [],
   "source": []
  },
  {
   "cell_type": "markdown",
   "metadata": {},
   "source": [
    "\n",
    "\n",
    "<div class=\"alert alert-block alert-info\">  \n",
    "<b>To do: :</b> \n",
    "    \n",
    "* <span style='font-family:Georgia'> Can you count how many incidents are within each neighbourhood? \n",
    "   \n",
    "* <span style='font-family:Georgia'>  You might use Pandas groupby  using NAME column and then calculate the size. \n",
    "    \n",
    "\n",
    "\n"
   ]
  },
  {
   "cell_type": "code",
   "execution_count": null,
   "metadata": {},
   "outputs": [],
   "source": []
  },
  {
   "cell_type": "code",
   "execution_count": null,
   "metadata": {},
   "outputs": [],
   "source": []
  },
  {
   "cell_type": "markdown",
   "metadata": {},
   "source": [
    "<div class=\"alert alert-block alert-info\">\n",
    "    \n",
    "* <span style='font-family:Georgia'> Which Neighbourhood has the lowest Crime incidents? Which Neighbourhood has the highest Crime incidents?\n",
    "\n",
    " \n",
    "</div>"
   ]
  },
  {
   "cell_type": "code",
   "execution_count": null,
   "metadata": {},
   "outputs": [],
   "source": []
  },
  {
   "cell_type": "markdown",
   "metadata": {},
   "source": [
    "# Workshop deliverable"
   ]
  },
  {
   "cell_type": "markdown",
   "metadata": {},
   "source": [
    "You are required to submit a copy of this solved Jupyter notebook through the submission folder on the Moodle."
   ]
  },
  {
   "cell_type": "code",
   "execution_count": null,
   "metadata": {},
   "outputs": [],
   "source": []
  }
 ],
 "metadata": {
  "hide_input": false,
  "kernelspec": {
   "display_name": "Python 3",
   "language": "python",
   "name": "python3"
  },
  "language_info": {
   "codemirror_mode": {
    "name": "ipython",
    "version": 3
   },
   "file_extension": ".py",
   "mimetype": "text/x-python",
   "name": "python",
   "nbconvert_exporter": "python",
   "pygments_lexer": "ipython3",
   "version": "3.6.8"
  }
 },
 "nbformat": 4,
 "nbformat_minor": 4
}
